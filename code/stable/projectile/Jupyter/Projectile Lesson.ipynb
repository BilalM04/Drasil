{
 "cells": [
  {
   "cell_type": "markdown",
   "metadata": {},
   "source": [
    "# Notebook for Projectile Motion Lesson\n",
    "## W. Spencer Smith\n",
    "\n"
   ]
  },
  {
   "cell_type": "markdown",
   "metadata": {},
   "source": [
    "\n",
    "# Learning Objectives\n",
    "<a id=\"Sec:LearnObj\"></a>\n",
    "\n",
    "- Derive kinematic equations for 2D projectile motion from kinematic equations from 1D rectilinear motion\n",
    "- Identify the assumptions required for the projectile motion equations to hold:\n",
    " - Air resistance is neglected\n",
    " - Gravitational acceleration acts downward and is constant, regardless of altitude\n",
    "- Solve any given (well-defined) free-flight projectile motion problems by:\n",
    " - Able to select an appropriate Cartesian coordinate system to simplify the problem as much as possible\n",
    " - Able to identify the known variables\n",
    " - Able to identify the unknown variables\n",
    " - Able to write projectile motion equations for the given problem\n",
    " - Able to solve the projectile motion equations for the unknown quantities\n",
    "\n"
   ]
  },
  {
   "cell_type": "markdown",
   "metadata": {},
   "source": [
    "\n",
    "# Review\n",
    "<a id=\"Sec:Review\"></a>\n",
    "\n",
    "As covered previously, the equations relating velocity ($v$), position ($p$) and time ($t$) for motion in one dimension with constant acceleration ($a^c$) are as follows:\n",
    "$$v={v^{\\text{i}}}+{a^{c}} t$$\n",
    "$$p={p^{\\text{i}}}+{v^{\\text{i}}} t+\\frac{{a^{c}} t^{2}}{2}$$\n",
    "$$v^{2}={v^{\\text{i}}}^{2}+2 {a^{c}} \\left(p-{p^{\\text{i}}}\\right)$$\n",
    "\n",
    "where $v^i$ and $p^i$ are the initial velocity and position, respectively.\n",
    "\n",
    "Only two of these equations are independent, since the third equation can always be derived from the other two.\n",
    "\n"
   ]
  },
  {
   "cell_type": "markdown",
   "metadata": {},
   "source": [
    "\n",
    "# Case Problem\n",
    "<a id=\"Sec:CaseProb\"></a>\n",
    "\n",
    "__Motion of a Projectile__\n",
    "\n",
    "The free flight motion of a projectile is often studied in terms of its rectangular components, since the projectile's acceleration always acts in the vertical direciton. To illustrate the kinematic analysis, consider a  projectile launched at point ($x$, $y$) as shown in [Fig:CoordSystAndAssumpts](#Figure:CoordSystAndAssumpts). The path is defined in the $x$ - $y$ plane such that the initial velocity is $v^i$, having components $u_i$ and $w_i$ When air resistance is neglected, the only force acting on the projectile is its weight, which causes the projectile to have a *constant downward acceleration* of approximately $a^c = g = 9.81$ $\\frac{m}{s^2}$ or $g = 32.2$ $\\frac{ft}{s^2}$.\n",
    "<a id=\"Figure:CoordSystAndAssumpts\"></a>\n",
    "<figure>\n",
    "<img src=\"../../../datafiles/Projectile/CoordSystAndAssumpts.png\" alt=\"The coordinate system\" >\n",
    "</figure>\n",
    "\n",
    "The equations for rectilinear kinematics given above [EqnB:rectVel](#Equation:rectVel) are in one dimension. These equations can be applied for both the vertical motion and the horizontal motion, as follows:\n",
    "\n",
    "__Horizontal Motion__\n",
    "\n",
    "For projectile motion the acceleration in the horizontal direction is and equal to zero ($a_x = 0$). This value can be substituted in the equations for constant acceleration given above (ref) to yield the following:\n",
    "\n",
    "From Equation [EqnB:rectVel](#Equation:rectVel): $v_x = v_x^i$ From Equation [EqnB:rectPos](#Equation:rectPos): $p_x = p_x^i + v_x^it$ From Equation [EqnB:rectNoTime](#Equation:rectNoTime): $v_x = v_x^i$\n",
    "\n",
    "Since the acceleration in the $x$-direction ($a_x$) is zero, the horizontal component of  velocity always remains constant during motion. In addition to knowing this, we have one more equation.\n",
    "\n",
    "__Vertical Motion__\n",
    "\n",
    "Since the positive $y$-axis is directed upward, the acceleration in the vertical direction is $a_y = -g$. This value can be substituted in the equations for constant acceleration given above (ref) to yield the following:\n",
    "\n",
    "From Equation [EqnB:rectVel](#Equation:rectVel): $v_y = v_y^i - gt$ From Equation [EqnB:rectPos](#Equation:rectPos): $p_y = p_y^i + v_y^it - \\frac{gt^2}{2}$ From Equation [EqnB:rectNoTime](#Equation:rectNoTime): $v_y^2 = v_y^i^2 - 2g(p_y - p_y^i)$\n",
    "\n",
    "Recall that the last equation can be formulated on the basis of eliminating the time $t$ between the first two equations, and therefore only  two of the above three equations are independent of one another.\n",
    "\n",
    "__Summary__\n",
    "\n",
    "In addition to knowing that the horizontal component of velocity is constant [Hibbler doesn't say this, but it seems necessary for completeness], problems involving the motion of a projectile can have at most three unknowns since only three independent equations can be written: that is, one equation in the horizontal direction and two in the vertical direction. Once $v_x$ and $v_y$ are obtained, the resultant velocity $v$ which is always tangent to the path, is defined by the vector sum as shown in [Fig:CoordSystAndAssumpts](#Figure:CoordSystAndAssumpts).\n",
    "\n",
    "__Procedure for Analysis__\n",
    "\n",
    "Free-flight projectile motion problems can be solved using the following procedure.\n",
    "\n",
    "__Step 1: Coordinate System__\n",
    "\n",
    "- Establish the fixed $x$, $y$ coordinate axes and sketch the trajectory of the particle. Between any *two points* on the path specify the given problem data and the *three unknowns*. In all cases the acceleration of gravity acts downward. The particle's initial and final velocities should be represented in terms of their $x$ and $y$ components.\n",
    "- Remember that positive and negative position, velocity , and acceleration components always act in accordance with their associated coordinate directions.\n",
    "- The two points that are selected should be significant points where something about the motion of the particle is known. Potential significant points include the initial point of launching the projectile and the final point where it lands. The landing point often has a known $y$ value.\n",
    "- The variables in the equations may need to be changed to match the notation of the specific problem. For instance, a distinction may need to be made between the $x$ coordinate of points $A$ and $B$ via notation like.\n",
    "\n",
    "__Step 2: Identify Knowns__\n",
    "\n",
    "Using the notation for the problem in question, write out the known variables and their values. The known variables will be a subset of the following: $p_x^i$, $p_x$, $p_y^i$, $p_y$, $v_x^i$, $v_x$, $v_y^i$, $v_y$ and $t$. The knowns should be written in the notation adopted for the particular problem.\n",
    "\n",
    "__Step 3: Identify Unknowns__\n",
    "\n",
    "Each problem will have at most 4 unknowns that need to be determined, selected from the variables listed in the Step 2 that are not known. The number of relevant unknowns will usually be less than 4, since questions will often focus on one or two unknowns. As an example, the equation that horizontal velocity is constant is so trivial that most problems will not look for this as an unknown. The unknowns should be written in the notation adopted for the particular problem.\n",
    "\n",
    "__Step 4: Kinematic Equations__\n",
    "\n",
    "Depending upon the known data and what is to be determined, a choice should be made as to which four of the following five equations should be applied between the two points on the path to obtain the most direct solution to the problem.\n",
    "\n",
    "__Step 4.1: Horizontal Motion__\n",
    "\n",
    "From equation [EqnB:horizVel](#Equation:horizVel): $v_x = v_x^i$ (The *velocity* in the horizontal or $x$ direction is *constant*)\n",
    "\n",
    "From equation [EqnB:horizPos](#Equation:horizPos): $p_x = p_x^i + v_x^it$\n",
    "\n",
    "__Step 4.2: Vertical Motion__\n",
    "\n",
    "In the vertical or $y$ direction *only two* of the following three equations (using $a_y = -g$) can be used for solution. (The sign of $g$ will change to positive if the positive $y$ axis is downward.) For example, if the particle's final velocity $v_y$ is not needed, then the first and third of these questions (for $y$) will not be useful.\n",
    "\n",
    "From equation [EqnB:vertVel](#Equation:vertVel): $v_y = v_y^i - gt$\n",
    "\n",
    "From equation [EqnB:vertPos](#Equation:vertPos): $p_y = p_y^i + v_y^it - \\frac{gt^2}{2}$\n",
    "\n",
    "From equation [EqnB:vertNoTime](#Equation:vertNoTime): $v_y^2 = v_y^i^2 - 2g(p_y - p_y^i)$\n",
    "\n",
    "__Step 5: Solve for Unknowns__\n",
    "\n",
    "Use the equations from Step 4, together with the known values from Step 2 to find the unknown values from Step 3. We can do this systematically by going through each equation and determining how many unknowns are in that equation. Any equations with one unknown can be used to solve for that unknown directly.\n",
    "\n"
   ]
  },
  {
   "cell_type": "markdown",
   "metadata": {},
   "source": [
    "\n",
    "# Example\n",
    "<a id=\"Sec:Example\"></a>\n",
    "\n"
   ]
  },
  {
   "cell_type": "markdown",
   "metadata": {},
   "source": [
    "\n",
    "# References\n",
    "<a id=\"Sec:References\"></a>\n",
    "\n"
   ]
  },
  {
   "cell_type": "markdown",
   "metadata": {},
   "source": [
    "\n"
   ]
  }
 ],
 "metadata": {
  "kernelspec": {
   "display_name": "Python 3",
   "language": "python",
   "name": "python3"
  },
  "language_info": {
   "codemirror_mode": {
    "name": "ipython",
    "version": 3
   },
   "file_extension": ".py",
   "mimetype": "text/x-python",
   "name": "python",
   "nbconvert_exporter": "python",
   "pygments_lexer": "ipython3",
   "version": "3.9.1"
  }
 },
 "nbformat": 4,
 "nbformat_minor": 4
}
